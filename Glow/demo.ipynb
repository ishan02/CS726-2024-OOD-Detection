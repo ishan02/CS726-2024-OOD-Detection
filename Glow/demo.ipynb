{
 "cells": [
  {
   "cell_type": "code",
   "execution_count": 177,
   "metadata": {},
   "outputs": [],
   "source": [
    "import torch\n",
    "from torchvision.utils import make_grid\n",
    "import matplotlib.pyplot as plt\n",
    "import os\n",
    "import sys\n",
    "import seaborn as sns\n",
    "import numpy as np\n",
    "import torch.nn as nn\n",
    "import torch.nn.functional as F\n",
    "import inspect\n",
    "path = \"F:\\shreeradha\\cs726\\cs726project\\code\\CS726-2024-OOD-Detection\\Glow\\checkpoints\\glow_checkpoint_120.pt\"\n",
    "parent_dir = \"F:\\shreeradha\\cs726\\cs726project\\code\\CS726-2024-OOD-Detection\"\n",
    "data = \"F:\\shreeradha\\cs726\\cs726project\\code\\data\"\n",
    "sys.path.append(parent_dir)\n",
    "from build_dataset import build_or_get_dataset, get_dataloader\n",
    "from model import Glow\n",
    "device = torch.device(\"cuda\")\n",
    "from config import get_config\n",
    "config = get_config()\n"
   ]
  },
  {
   "cell_type": "code",
   "execution_count": 178,
   "metadata": {},
   "outputs": [],
   "source": [
    "num_classes = 10\n",
    "image_shape = (32, 32, 3)\n",
    "model = Glow(image_shape,config['hidden_channels'],config['K'],config['L'],config['actnorm_scale'],\n",
    "    config['flow_permutation'],config['flow_coupling'],config['LU_decomposed'],num_classes,config['learn_top'],config['y_condition'],\n",
    ")\n",
    "model.load_state_dict(torch.load(path)['model'])\n",
    "model.set_actnorm_init()\n",
    "model = model.to(device)\n",
    "model = model.eval()"
   ]
  },
  {
   "cell_type": "code",
   "execution_count": 179,
   "metadata": {},
   "outputs": [
    {
     "name": "stdout",
     "output_type": "stream",
     "text": [
      "Files already downloaded and verified\n"
     ]
    },
    {
     "name": "stdout",
     "output_type": "stream",
     "text": [
      "Files already downloaded and verified\n",
      "Using downloaded and verified file: F:\\shreeradha\\cs726\\cs726project\\code\\data\\train_32x32.mat\n",
      "Using downloaded and verified file: F:\\shreeradha\\cs726\\cs726project\\code\\data\\test_32x32.mat\n"
     ]
    }
   ],
   "source": [
    "_, testset_in, classes = build_or_get_dataset('cifar10', data,True)\n",
    "_, testset_out, _= build_or_get_dataset('svhn', data,True)"
   ]
  },
  {
   "cell_type": "code",
   "execution_count": 180,
   "metadata": {},
   "outputs": [],
   "source": [
    "testloader_in = get_dataloader(testset_in, batch_size = 5, shuffle= True)\n",
    "testloader_out = get_dataloader(testset_out, batch_size = 5, shuffle= True)"
   ]
  },
  {
   "cell_type": "code",
   "execution_count": 181,
   "metadata": {},
   "outputs": [],
   "source": [
    "label_map = [\"airplane\", 'automobile', 'bird', 'cat', 'deer', 'dog', 'frog', 'horse', 'ship',  'truck']"
   ]
  },
  {
   "cell_type": "code",
   "execution_count": 182,
   "metadata": {},
   "outputs": [],
   "source": [
    "def show_images(images, labels, title, data):\n",
    "    plt.figure(figsize=(10, 3))\n",
    "    for i in range(min(len(images), 5)):\n",
    "        plt.subplot(1, 5, i + 1)\n",
    "        plt.imshow(images[i].permute(1, 2, 0))  # Convert from tensor to numpy array and transpose dimensions\n",
    "        if data == 'cifar':\n",
    "            plt.title(f\"Label: {torch.argmax(labels[i])}, {label_map[torch.argmax(labels[i])]}\")\n",
    "        else : \n",
    "            plt.title(f\"Label: {torch.argmax(labels[i])}\")\n",
    "        plt.axis('off')\n",
    "    plt.suptitle(title)\n",
    "    plt.show()"
   ]
  },
  {
   "cell_type": "code",
   "execution_count": 183,
   "metadata": {},
   "outputs": [],
   "source": [
    "dataiter_in = iter(testloader_in)\n",
    "dataiter_out = iter(testloader_out)"
   ]
  },
  {
   "cell_type": "code",
   "execution_count": 184,
   "metadata": {},
   "outputs": [],
   "source": [
    "concat = lambda x: np.concatenate(x, axis=0)\n",
    "to_np = lambda x: x.data.cpu().numpy()\n",
    "def get_ood_scores(images, target, T=1):\n",
    "\n",
    "    with torch.no_grad():\n",
    "        images = images.to(device)\n",
    "        target = target.to(device)   \n",
    "        z, nll, output = model(images, y_onehot=target) # output is class_logits assigned by gen model\n",
    "        smax = to_np(F.softmax(output, dim=1))\n",
    "        ener =-to_np((T*torch.logsumexp(output /T, dim=1)))\n",
    "        msp=np.max(smax, axis=1)\n",
    "        preds = np.argmax(smax, axis=1)\n",
    "    return msp , ener, nll, z, preds"
   ]
  },
  {
   "cell_type": "code",
   "execution_count": 185,
   "metadata": {},
   "outputs": [
    {
     "name": "stderr",
     "output_type": "stream",
     "text": [
      "Clipping input data to the valid range for imshow with RGB data ([0..1] for floats or [0..255] for integers).\n",
      "Clipping input data to the valid range for imshow with RGB data ([0..1] for floats or [0..255] for integers).\n",
      "Clipping input data to the valid range for imshow with RGB data ([0..1] for floats or [0..255] for integers).\n",
      "Clipping input data to the valid range for imshow with RGB data ([0..1] for floats or [0..255] for integers).\n",
      "Clipping input data to the valid range for imshow with RGB data ([0..1] for floats or [0..255] for integers).\n"
     ]
    },
    {
     "name": "stdout",
     "output_type": "stream",
     "text": [
      "Images and labels from testloader_in:\n"
     ]
    },
    {
     "data": {
      "image/png": "[encoded data removed]",
      "text/plain": [
       "<Figure size 1000x300 with 5 Axes>"
      ]
     },
     "metadata": {},
     "output_type": "display_data"
    }
   ],
   "source": [
    "# Print first 5 images and their labels from testloader_in\n",
    "images_in, labels_in = next(dataiter_in)\n",
    "print(\"Images and labels from testloader_in:\")\n",
    "show_images(images_in, labels_in, \"Test Loader In\", 'cifar')"
   ]
  },
  {
   "cell_type": "code",
   "execution_count": 186,
   "metadata": {},
   "outputs": [],
   "source": [
    "msp , energy, nll, _ , pred= get_ood_scores(images_in, labels_in)"
   ]
  },
  {
   "cell_type": "code",
   "execution_count": 187,
   "metadata": {},
   "outputs": [
    {
     "name": "stdout",
     "output_type": "stream",
     "text": [
      "MSP [0.8130567, 0.96685725, 0.7251801, 0.95577633, 0.96180737]\n",
      "Energy [-8.036183, -6.3017993, -9.426325, -10.036131, -10.717091]\n",
      "NLL [tensor(3.6104, device='cuda:0'), tensor(3.4329, device='cuda:0'), tensor(3.8282, device='cuda:0'), tensor(4.7691, device='cuda:0'), tensor(3.3917, device='cuda:0')]\n",
      "prediction [1, 4, 5, 1, 2]\n"
     ]
    }
   ],
   "source": [
    "print(\"MSP\", list(msp))\n",
    "print(\"Energy\", list(energy))\n",
    "print(\"NLL\", list(nll))\n",
    "print(\"prediction\", list(pred))"
   ]
  },
  {
   "cell_type": "markdown",
   "metadata": {},
   "source": [
    "0\"airplane\", 1'automobile', 2'bird', 3'cat', 4'deer', 5'dog', 6'frog', 7'horse', 8'ship',  9'truck'"
   ]
  },
  {
   "cell_type": "code",
   "execution_count": 120,
   "metadata": {},
   "outputs": [
    {
     "name": "stderr",
     "output_type": "stream",
     "text": [
      "Clipping input data to the valid range for imshow with RGB data ([0..1] for floats or [0..255] for integers).\n",
      "Clipping input data to the valid range for imshow with RGB data ([0..1] for floats or [0..255] for integers).\n",
      "Clipping input data to the valid range for imshow with RGB data ([0..1] for floats or [0..255] for integers).\n",
      "Clipping input data to the valid range for imshow with RGB data ([0..1] for floats or [0..255] for integers).\n",
      "Clipping input data to the valid range for imshow with RGB data ([0..1] for floats or [0..255] for integers).\n"
     ]
    },
    {
     "name": "stdout",
     "output_type": "stream",
     "text": [
      "Images and labels from testloader_out:\n"
     ]
    },
    {
     "data": {
      "image/png": "[encoded data removed]",
      "text/plain": [
       "<Figure size 800x200 with 5 Axes>"
      ]
     },
     "metadata": {},
     "output_type": "display_data"
    }
   ],
   "source": [
    "\n",
    "# Print first 5 images and their labels from testloader_out\n",
    "images_out, labels_out = next(dataiter_out)\n",
    "print(\"Images and labels from testloader_out:\")\n",
    "show_images(images_out, labels_out, \"Test Loader Out\", 'svhn')"
   ]
  },
  {
   "cell_type": "code",
   "execution_count": 172,
   "metadata": {},
   "outputs": [],
   "source": [
    "msp , energy, nll, _ , pred= get_ood_scores(images_out, labels_out)"
   ]
  },
  {
   "cell_type": "code",
   "execution_count": 174,
   "metadata": {},
   "outputs": [
    {
     "name": "stdout",
     "output_type": "stream",
     "text": [
      "MSP [0.8883491, 0.51837945, 0.9919003, 0.8048418, 0.8467822]\n",
      "Energy [-9.8061, -8.4480505, -11.040635, -7.794653, -12.593739]\n",
      "NLL [tensor(2.6175, device='cuda:0'), tensor(2.4581, device='cuda:0'), tensor(3.3017, device='cuda:0'), tensor(2.2928, device='cuda:0'), tensor(2.8058, device='cuda:0')]\n"
     ]
    }
   ],
   "source": [
    "print(\"MSP\", list(msp))\n",
    "print(\"Energy\", list(energy))\n",
    "print(\"NLL\", list(nll))"
   ]
  }
 ],
 "metadata": {
  "kernelspec": {
   "display_name": "test",
   "language": "python",
   "name": "python3"
  },
  "language_info": {
   "codemirror_mode": {
    "name": "ipython",
    "version": 3
   },
   "file_extension": ".py",
   "mimetype": "text/x-python",
   "name": "python",
   "nbconvert_exporter": "python",
   "pygments_lexer": "ipython3",
   "version": "3.8.18"
  }
 },
 "nbformat": 4,
 "nbformat_minor": 2
}
